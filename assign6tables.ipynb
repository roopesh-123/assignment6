{
  "nbformat": 4,
  "nbformat_minor": 0,
  "metadata": {
    "colab": {
      "name": "assign6tables",
      "provenance": []
    },
    "kernelspec": {
      "name": "python3",
      "display_name": "Python 3"
    }
  },
  "cells": [
    {
      "cell_type": "code",
      "metadata": {
        "id": "MUdaVPgQYVXw",
        "colab_type": "code",
        "colab": {
          "base_uri": "https://localhost:8080/",
          "height": 204
        },
        "outputId": "db15f4f2-b0c2-4b7c-d5ba-a430237af978"
      },
      "source": [
        "k=int(input(\"enter the value of k\"))\n",
        "i=1\n",
        "while(i<=10):\n",
        "  print(k,\"*\",i,\"is=\",(k*i))\n",
        "  i=i+1"
      ],
      "execution_count": 1,
      "outputs": [
        {
          "output_type": "stream",
          "text": [
            "enter the value of k7\n",
            "7 * 1 is= 7\n",
            "7 * 2 is= 14\n",
            "7 * 3 is= 21\n",
            "7 * 4 is= 28\n",
            "7 * 5 is= 35\n",
            "7 * 6 is= 42\n",
            "7 * 7 is= 49\n",
            "7 * 8 is= 56\n",
            "7 * 9 is= 63\n",
            "7 * 10 is= 70\n"
          ],
          "name": "stdout"
        }
      ]
    },
    {
      "cell_type": "code",
      "metadata": {
        "id": "-vMHvSavY2ot",
        "colab_type": "code",
        "colab": {}
      },
      "source": [
        ""
      ],
      "execution_count": null,
      "outputs": []
    }
  ]
}