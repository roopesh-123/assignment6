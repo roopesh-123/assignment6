{
  "nbformat": 4,
  "nbformat_minor": 0,
  "metadata": {
    "colab": {
      "name": "assign6fibonacci",
      "provenance": []
    },
    "kernelspec": {
      "name": "python3",
      "display_name": "Python 3"
    }
  },
  "cells": [
    {
      "cell_type": "code",
      "metadata": {
        "id": "D28awdnTggdU",
        "colab_type": "code",
        "colab": {
          "base_uri": "https://localhost:8080/",
          "height": 153
        },
        "outputId": "dafc4de4-d9b6-420b-8d59-79c9f5b5810b"
      },
      "source": [
        "n=int(input(\"enter the no of terms\"))\n",
        "n1,n2=0,1\n",
        "count=0\n",
        "while count<n:\n",
        "  print(n1)\n",
        "  nth=n1+n2\n",
        "  n1=n2\n",
        "  n2=nth\n",
        "  count=count+1"
      ],
      "execution_count": 1,
      "outputs": [
        {
          "output_type": "stream",
          "text": [
            "enter the no of terms7\n",
            "0\n",
            "1\n",
            "1\n",
            "2\n",
            "3\n",
            "5\n",
            "8\n"
          ],
          "name": "stdout"
        }
      ]
    },
    {
      "cell_type": "code",
      "metadata": {
        "id": "1uJ2ygEehBCZ",
        "colab_type": "code",
        "colab": {}
      },
      "source": [
        ""
      ],
      "execution_count": null,
      "outputs": []
    }
  ]
}