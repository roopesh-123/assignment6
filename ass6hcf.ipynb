{
  "nbformat": 4,
  "nbformat_minor": 0,
  "metadata": {
    "colab": {
      "name": "ass6hcf",
      "provenance": []
    },
    "kernelspec": {
      "name": "python3",
      "display_name": "Python 3"
    }
  },
  "cells": [
    {
      "cell_type": "code",
      "metadata": {
        "id": "zGzNsDhV7xeN",
        "colab_type": "code",
        "colab": {
          "base_uri": "https://localhost:8080/",
          "height": 68
        },
        "outputId": "b1ae498a-b669-46f8-8383-c3451995438a"
      },
      "source": [
        "import math \n",
        "a=int(input(\"enter the value of a=\"))\n",
        "b=int(input(\"enter the value of b=\"))\n",
        "i=1\n",
        "m=min(a,b)\n",
        "#if (a>b):\n",
        " # m=b\n",
        "#else:\n",
        " # m=a\n",
        "while (i<=m):\n",
        "  if(a%i==0 and b%i==0):\n",
        "    hcf=i\n",
        "  i=i+1\n",
        "print(hcf)\n",
        "\n"
      ],
      "execution_count": 23,
      "outputs": [
        {
          "output_type": "stream",
          "text": [
            "enter the value of a=8\n",
            "enter the value of b=12\n",
            "4\n"
          ],
          "name": "stdout"
        }
      ]
    },
    {
      "cell_type": "code",
      "metadata": {
        "id": "ZVlX6qiUBLtf",
        "colab_type": "code",
        "colab": {
          "base_uri": "https://localhost:8080/",
          "height": 34
        },
        "outputId": "3dd4e96c-ee06-4e23-f56f-5d772277ec17"
      },
      "source": [
        "x=2\n",
        "print(x)"
      ],
      "execution_count": 17,
      "outputs": [
        {
          "output_type": "stream",
          "text": [
            "2\n"
          ],
          "name": "stdout"
        }
      ]
    },
    {
      "cell_type": "code",
      "metadata": {
        "id": "Nggn2WvW8zmR",
        "colab_type": "code",
        "colab": {}
      },
      "source": [
        ""
      ],
      "execution_count": null,
      "outputs": []
    }
  ]
}